{
 "cells": [
  {
   "cell_type": "code",
   "execution_count": 26,
   "id": "bca5726b",
   "metadata": {},
   "outputs": [],
   "source": [
    "def first_combination(arry, target): #arry = array of integers and target = target value\n",
    "    pair=[]               # it is an empty list\n",
    "    for i in range(len(arry)): \n",
    "        for j in range(i + 1, len(arry)):\n",
    "            if arry[i] + arry[j] == target:\n",
    "                pair.append([arry[i], arry[j]])\n",
    "    return pair      #it gives the sum of pairs which are in given array\n",
    "\n",
    "def sorting(arry):\n",
    "    sorted_array = sorted(arry)\n",
    "    return sorted_array  # it can sort the given array                       \n",
    "\n",
    "def second_combination(arry, double_target):# arry= array of integers and double_target = second combination target value\n",
    "    combination= []  # empty list\n",
    "    for i in range(len(arry)):\n",
    "        for j in range(i + 1, len(arry)):\n",
    "            for k in range(j+1,len(arry)):\n",
    "                for l in range(k+1,len(arry)):\n",
    "                    if arry[i] + arry[j] + arry[k] + arry[l] == double_target:\n",
    "                        combination.append([arry[i], arry[j],arry[k],arry[l]]) # append the values to empty list\n",
    "    return combination   #it gives the 4 integer sum equal to double_target"
   ]
  },
  {
   "cell_type": "code",
   "execution_count": 27,
   "id": "d7920d66",
   "metadata": {},
   "outputs": [],
   "source": [
    "#Example\n",
    "\n",
    "arry = [2, 5, 3, 7, -3, -1, -9, 4]\n",
    "target = 6\n",
    "double_target = 9"
   ]
  },
  {
   "cell_type": "code",
   "execution_count": 28,
   "id": "02f151a9",
   "metadata": {},
   "outputs": [
    {
     "data": {
      "text/plain": [
       "[[2, 4], [7, -1]]"
      ]
     },
     "execution_count": 28,
     "metadata": {},
     "output_type": "execute_result"
    }
   ],
   "source": [
    " first_combination(arry, target)"
   ]
  },
  {
   "cell_type": "code",
   "execution_count": 29,
   "id": "19d14b93",
   "metadata": {},
   "outputs": [
    {
     "data": {
      "text/plain": [
       "[-9, -3, -1, 2, 3, 4, 5, 7]"
      ]
     },
     "execution_count": 29,
     "metadata": {},
     "output_type": "execute_result"
    }
   ],
   "source": [
    "sorting(arry)"
   ]
  },
  {
   "cell_type": "code",
   "execution_count": 30,
   "id": "be0229d5",
   "metadata": {},
   "outputs": [
    {
     "data": {
      "text/plain": [
       "[[2, 5, 3, -1], [2, 3, 7, -3], [5, 3, -3, 4]]"
      ]
     },
     "execution_count": 30,
     "metadata": {},
     "output_type": "execute_result"
    }
   ],
   "source": [
    " second_combination(arry, double_target)"
   ]
  },
  {
   "cell_type": "code",
   "execution_count": null,
   "id": "ff3be441",
   "metadata": {},
   "outputs": [],
   "source": []
  }
 ],
 "metadata": {
  "kernelspec": {
   "display_name": "Python 3 (ipykernel)",
   "language": "python",
   "name": "python3"
  },
  "language_info": {
   "codemirror_mode": {
    "name": "ipython",
    "version": 3
   },
   "file_extension": ".py",
   "mimetype": "text/x-python",
   "name": "python",
   "nbconvert_exporter": "python",
   "pygments_lexer": "ipython3",
   "version": "3.9.12"
  }
 },
 "nbformat": 4,
 "nbformat_minor": 5
}
